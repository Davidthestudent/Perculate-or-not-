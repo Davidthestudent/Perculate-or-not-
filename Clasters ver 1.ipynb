{
 "cells": [
  {
   "cell_type": "code",
   "execution_count": 4,
   "metadata": {
    "collapsed": true,
    "pycharm": {
     "name": "#%%\n"
    }
   },
   "outputs": [
    {
     "name": "stdout",
     "output_type": "stream",
     "text": [
      "Percolate!\n"
     ]
    }
   ],
   "source": [
    "import numpy as np\n",
    "def properize(labels, cell):\n",
    "    if labels[cell] == cell:\n",
    "        return cell\n",
    "    while labels[cell] != cell:\n",
    "        cell = labels[cell]\n",
    "        return cell\n",
    "SIZE = 96\n",
    "CONC = 60\n",
    "# Generate our lattice\n",
    "lattice = np.random.randint(100, size=(SIZE+1, SIZE+1))\n",
    "lattice[lattice<=CONC] = 1\n",
    "lattice[lattice>CONC] = 0\n",
    "lattice[0] = 0 # zero first array row\n",
    "lattice[:,0] = 0 # zero first array column\n",
    "labels = np.arange(SIZE*SIZE/2, dtype=np.int32)\n",
    "currLabel = 1\n",
    "# Iterate the array; x is column number, y is row\n",
    "for (x,y), value in np.ndenumerate(lattice):\n",
    "    if not value:\n",
    "        continue # If lattice[x,y] == 0\n",
    "    if not lattice[x,y-1] and not lattice[x-1,y]:\n",
    "        lattice[x,y] = currLabel\n",
    "        currLabel += 1\n",
    "        continue\n",
    "# left neighbor\n",
    "    if lattice[x, y-1] and not lattice[x-1,y]:\n",
    "        lattice[x,y] = lattice[x, y-1]\n",
    "        continue\n",
    "# upper neighbor\n",
    "    if not lattice[x,y-1] and lattice[x-1,y]:\n",
    "        lattice[x,y] = properize(labels, lattice[x-1,y])\n",
    "        continue\n",
    "up_proper = properize(labels, lattice[x-1, y])\n",
    "left_proper = properize(labels, lattice[x, y-1])\n",
    "lattice[x,y] = min(up_proper, left_proper)\n",
    "labels[max(up_proper, left_proper)] = lattice[x,y]\n",
    "# Correction of the lattice\n",
    "for (x,y), value in np.ndenumerate(lattice):\n",
    "    if not value:\n",
    "        continue # If lattice[x,y] == 0\n",
    "    properLabel = value\n",
    "    while labels[properLabel] != properLabel:\n",
    "        properLabel = labels[properLabel]\n",
    "        lattice[x,y] = properLabel\n",
    "for x, value in np.ndenumerate(lattice[:,1]):\n",
    "    if value and value in lattice[:,SIZE]:\n",
    "        print(\"Percolate!\")\n"
   ]
  }
 ],
 "metadata": {
  "kernelspec": {
   "display_name": "Python 3",
   "language": "python",
   "name": "python3"
  },
  "language_info": {
   "codemirror_mode": {
    "name": "ipython",
    "version": 2
   },
   "file_extension": ".py",
   "mimetype": "text/x-python",
   "name": "python",
   "nbconvert_exporter": "python",
   "pygments_lexer": "ipython2",
   "version": "2.7.6"
  }
 },
 "nbformat": 4,
 "nbformat_minor": 0
}